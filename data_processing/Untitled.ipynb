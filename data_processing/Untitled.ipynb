{
 "cells": [
  {
   "cell_type": "code",
   "execution_count": 1,
   "id": "beautiful-secondary",
   "metadata": {},
   "outputs": [],
   "source": [
    "import pandas as pd\n",
    "import tqdm\n",
    "import numpy as np"
   ]
  },
  {
   "cell_type": "code",
   "execution_count": 2,
   "id": "mechanical-happening",
   "metadata": {},
   "outputs": [
    {
     "name": "stderr",
     "output_type": "stream",
     "text": [
      "/home/theo/.local/lib/python3.8/site-packages/IPython/core/interactiveshell.py:3155: DtypeWarning: Columns (13,16) have mixed types.Specify dtype option on import or set low_memory=False.\n",
      "  has_raised = await self.run_ast_nodes(code_ast.body, cell_name,\n"
     ]
    }
   ],
   "source": [
    "genomes = pd.read_csv(\"metadata.tsv\",sep=\"\\t\")"
   ]
  },
  {
   "cell_type": "code",
   "execution_count": 3,
   "id": "tutorial-battery",
   "metadata": {},
   "outputs": [],
   "source": [
    "genomes = genomes[['Collection date','Location','Pango lineage']]\n",
    "parts = genomes.Location.str.split(\"/\",expand=True)\n",
    "genomes['country']=parts[1].str.strip()\n",
    "genomes=genomes.drop(columns=\"Location\").rename(columns={'Pango lineage':'Lineage','Collection date':\"date\"})\n",
    "lineages = genomes[genomes['date'].str.len()>7].copy()\n",
    "lineages.loc[lineages['country']==\"USA\",\"country\"]=\"United States\"\n",
    "selected_lineages = [\"A\",\"B\",\"B.1.177\",\"B.1.1.7\",\"B.1.351\",\"P.1\",\"B.1.617\",\"B.1.525\"]\n",
    "lineages=lineages[lineages.Lineage.notna()].copy()"
   ]
  },
  {
   "cell_type": "code",
   "execution_count": 4,
   "id": "relative-hawaii",
   "metadata": {},
   "outputs": [],
   "source": [
    "selected_lineages = [\"A\",\"B\",\"B.1.177\",\"B.1.1.7\",\"B.1.351\",\"P.1\",\"B.1.617\",\"B.1.525\"]"
   ]
  },
  {
   "cell_type": "code",
   "execution_count": 5,
   "id": "studied-walnut",
   "metadata": {},
   "outputs": [],
   "source": [
    "lineages['new_lineage'] = 'other'\n",
    "for lin in selected_lineages:\n",
    "    lineages.loc[lineages['Lineage'].str.startswith(f\"{lin}.\"),'new_lineage']=lin\n",
    "    lineages.loc[lineages['Lineage'] == lin,'new_lineage']=lin\n",
    "lineages = lineages.drop(columns=\"Lineage\").rename(columns={'new_lineage':'Lineage'})"
   ]
  },
  {
   "cell_type": "code",
   "execution_count": 6,
   "id": "danish-nation",
   "metadata": {},
   "outputs": [],
   "source": [
    "#countries = sorted(set(lineages.country.tolist()).intersection(cases['location'].tolist()))\n",
    "countries = sorted([x for x in set(lineages.country.tolist()) if x is not None])\n",
    "lineages = lineages[lineages.date.str.match(r'202.-[0-9][0-9]-[0-9][0-9]')==True]\n",
    "lineages['date'] = pd.to_datetime(lineages['date'])\n",
    "lineages.Lineage=  lineages.Lineage.astype(\"category\")"
   ]
  },
  {
   "cell_type": "code",
   "execution_count": 7,
   "id": "compact-synthetic",
   "metadata": {},
   "outputs": [
    {
     "data": {
      "text/html": [
       "<div>\n",
       "<style scoped>\n",
       "    .dataframe tbody tr th:only-of-type {\n",
       "        vertical-align: middle;\n",
       "    }\n",
       "\n",
       "    .dataframe tbody tr th {\n",
       "        vertical-align: top;\n",
       "    }\n",
       "\n",
       "    .dataframe thead th {\n",
       "        text-align: right;\n",
       "    }\n",
       "</style>\n",
       "<table border=\"1\" class=\"dataframe\">\n",
       "  <thead>\n",
       "    <tr style=\"text-align: right;\">\n",
       "      <th></th>\n",
       "      <th>date</th>\n",
       "      <th>country</th>\n",
       "      <th>Lineage</th>\n",
       "    </tr>\n",
       "  </thead>\n",
       "  <tbody>\n",
       "    <tr>\n",
       "      <th>5</th>\n",
       "      <td>2020-03-23</td>\n",
       "      <td>Australia</td>\n",
       "      <td>B</td>\n",
       "    </tr>\n",
       "    <tr>\n",
       "      <th>6</th>\n",
       "      <td>2020-03-28</td>\n",
       "      <td>Australia</td>\n",
       "      <td>B</td>\n",
       "    </tr>\n",
       "    <tr>\n",
       "      <th>7</th>\n",
       "      <td>2020-03-28</td>\n",
       "      <td>Australia</td>\n",
       "      <td>B</td>\n",
       "    </tr>\n",
       "    <tr>\n",
       "      <th>8</th>\n",
       "      <td>2020-03-28</td>\n",
       "      <td>Australia</td>\n",
       "      <td>B</td>\n",
       "    </tr>\n",
       "    <tr>\n",
       "      <th>9</th>\n",
       "      <td>2020-03-28</td>\n",
       "      <td>Australia</td>\n",
       "      <td>B</td>\n",
       "    </tr>\n",
       "    <tr>\n",
       "      <th>...</th>\n",
       "      <td>...</td>\n",
       "      <td>...</td>\n",
       "      <td>...</td>\n",
       "    </tr>\n",
       "    <tr>\n",
       "      <th>1194347</th>\n",
       "      <td>2020-12-18</td>\n",
       "      <td>Venezuela</td>\n",
       "      <td>other</td>\n",
       "    </tr>\n",
       "    <tr>\n",
       "      <th>1194348</th>\n",
       "      <td>2020-12-18</td>\n",
       "      <td>Venezuela</td>\n",
       "      <td>other</td>\n",
       "    </tr>\n",
       "    <tr>\n",
       "      <th>1194349</th>\n",
       "      <td>2020-12-18</td>\n",
       "      <td>Venezuela</td>\n",
       "      <td>other</td>\n",
       "    </tr>\n",
       "    <tr>\n",
       "      <th>1194350</th>\n",
       "      <td>2020-12-18</td>\n",
       "      <td>Venezuela</td>\n",
       "      <td>other</td>\n",
       "    </tr>\n",
       "    <tr>\n",
       "      <th>1194351</th>\n",
       "      <td>2020-12-18</td>\n",
       "      <td>Venezuela</td>\n",
       "      <td>other</td>\n",
       "    </tr>\n",
       "  </tbody>\n",
       "</table>\n",
       "<p>1166480 rows × 3 columns</p>\n",
       "</div>"
      ],
      "text/plain": [
       "              date    country Lineage\n",
       "5       2020-03-23  Australia       B\n",
       "6       2020-03-28  Australia       B\n",
       "7       2020-03-28  Australia       B\n",
       "8       2020-03-28  Australia       B\n",
       "9       2020-03-28  Australia       B\n",
       "...            ...        ...     ...\n",
       "1194347 2020-12-18  Venezuela   other\n",
       "1194348 2020-12-18  Venezuela   other\n",
       "1194349 2020-12-18  Venezuela   other\n",
       "1194350 2020-12-18  Venezuela   other\n",
       "1194351 2020-12-18  Venezuela   other\n",
       "\n",
       "[1166480 rows x 3 columns]"
      ]
     },
     "execution_count": 7,
     "metadata": {},
     "output_type": "execute_result"
    }
   ],
   "source": [
    "lineages"
   ]
  },
  {
   "cell_type": "code",
   "execution_count": 9,
   "id": "friendly-composition",
   "metadata": {},
   "outputs": [
    {
     "name": "stderr",
     "output_type": "stream",
     "text": [
      "100%|██████████| 176/176 [02:37<00:00,  1.11it/s]\n"
     ]
    }
   ],
   "source": [
    "import tqdm\n",
    "import numpy as np\n",
    "\n",
    "min_date=\"2020-03-01\"\n",
    "max_date=\"2021-04-5\"\n",
    "\n",
    "dfs = []\n",
    "\n",
    "for country in tqdm.tqdm(countries+['overview']):\n",
    "    if country=='overview':\n",
    "        country_set= lineages\n",
    "    else:\n",
    "        country_set = lineages[lineages['country']==country]\n",
    "    for date in  pd.date_range(min_date,max_date):\n",
    "        restr = country_set[\n",
    "np.logical_and( country_set[\"date\"] > date- pd.Timedelta(1,unit=\"W\"), country_set[\"date\"] <= date + pd.Timedelta(1,unit=\"W\"))]\n",
    "        counts = restr.Lineage.value_counts()\n",
    "        props = counts/counts.sum()\n",
    "        if counts.sum()<3:\n",
    "            props[props>-5]=pd.NA\n",
    "        \n",
    "        new_df = pd.DataFrame({'lambda':counts/2,'p':props,'ltla':country,'date':date})\n",
    "        dfs.append(new_df)\n",
    "\n",
    "\n"
   ]
  },
  {
   "cell_type": "code",
   "execution_count": 10,
   "id": "electronic-sheet",
   "metadata": {},
   "outputs": [],
   "source": [
    "big_df = pd.concat(dfs)\n",
    "big_df = big_df.reset_index().rename(columns={'index':'lineage'})\n",
    "big_df = big_df.melt(value_vars=['lambda','p'],id_vars=['date','ltla','lineage'], value_name = \"mean\",var_name=\"parameter\")\n",
    "big_df['lower'] = big_df['mean']\n",
    "big_df['upper'] = big_df['mean']\n",
    "big_df=big_df.rename(columns = {'ltla':'lad19cd'})\n",
    "big_df.to_csv(\"full_data_table.csv\")"
   ]
  },
  {
   "cell_type": "code",
   "execution_count": null,
   "id": "threatened-editing",
   "metadata": {},
   "outputs": [],
   "source": []
  }
 ],
 "metadata": {
  "kernelspec": {
   "display_name": "Python 3",
   "language": "python",
   "name": "python3"
  },
  "language_info": {
   "codemirror_mode": {
    "name": "ipython",
    "version": 3
   },
   "file_extension": ".py",
   "mimetype": "text/x-python",
   "name": "python",
   "nbconvert_exporter": "python",
   "pygments_lexer": "ipython3",
   "version": "3.8.5"
  }
 },
 "nbformat": 4,
 "nbformat_minor": 5
}
